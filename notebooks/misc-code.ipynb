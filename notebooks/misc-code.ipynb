{
 "cells": [
  {
   "cell_type": "code",
   "execution_count": null,
   "metadata": {
    "collapsed": true
   },
   "outputs": [],
   "source": [
    "pay_x = credit.columns[6:12]\n",
    "bill_amt_x = credit.columns[12:18]\n",
    "pay_amt_x = credit.columns[18:24]\n",
    "ranges_for_cut = [0,20000,40000,50000,80000,120000,\n",
    "                   160000,200000,260000,350000,999999999]\n",
    "labels_for_cut = ['[10,000-20,000]','[30,000 - 40,000]',\n",
    "                    '50000','[60,000-80,000]','[90,000 -120,000]',\n",
    "                    '[130,000 - 160,000]','[170,000 -200,000]',\n",
    "                    '[210,000 - 260,000]','[270,000 - 350,000]',\n",
    "                    '>=360,000']\n",
    "credit['limit_bal_range'] = pd.cut(credit.LIMIT_BAL, ranges_for_cut, 10, labels=labels_for_cut)\n",
    "credit.limit_bal_range.describe()\n",
    "credit['limit_bal_range'].head()\n",
    "df = credit\n",
    "from sklearn.model_selection import ShuffleSplit\n",
    "if 'default_next_m' in df:\n",
    "    y = df['default_next_m'].values\n",
    "    del df['default_next_m']\n",
    "    X = df.values\n",
    "\n",
    "X = df.values\n",
    "num_cv_iterations = 3\n",
    "num_instances = len(y)\n",
    "cv_object = ShuffleSplit(n_splits = num_cv_iterations, test_size = 0.2)\n",
    "print(cv_object)"
   ]
  }
 ],
 "metadata": {
  "kernelspec": {
   "display_name": "Python 3",
   "language": "python",
   "name": "python3"
  },
  "language_info": {
   "codemirror_mode": {
    "name": "ipython",
    "version": 3
   },
   "file_extension": ".py",
   "mimetype": "text/x-python",
   "name": "python",
   "nbconvert_exporter": "python",
   "pygments_lexer": "ipython3",
   "version": "3.6.3"
  }
 },
 "nbformat": 4,
 "nbformat_minor": 2
}
